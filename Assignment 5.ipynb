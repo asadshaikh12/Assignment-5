{
 "cells": [
  {
   "cell_type": "code",
   "execution_count": 15,
   "id": "fef2192e",
   "metadata": {},
   "outputs": [
    {
     "name": "stdout",
     "output_type": "stream",
     "text": [
      "enter num x: 10\n",
      "enter num n: 2\n",
      "2 th power of 10 : 100\n"
     ]
    }
   ],
   "source": [
    "class power:\n",
    "    def __init__(self,x,n):\n",
    "        self.x= int(input(\"enter num x: \"))\n",
    "        self.n= int(input(\"enter num n: \"))\n",
    "        \n",
    "    def nthpow(self):\n",
    "        print(self.n,\"th power of\", self.x ,\":\", self.x**self.n)\n",
    "ob=power(\"x\",\"n\")\n",
    "ob.nthpow()\n"
   ]
  },
  {
   "cell_type": "code",
   "execution_count": null,
   "id": "ca847c67",
   "metadata": {},
   "outputs": [],
   "source": []
  }
 ],
 "metadata": {
  "kernelspec": {
   "display_name": "Python 3 (ipykernel)",
   "language": "python",
   "name": "python3"
  },
  "language_info": {
   "codemirror_mode": {
    "name": "ipython",
    "version": 3
   },
   "file_extension": ".py",
   "mimetype": "text/x-python",
   "name": "python",
   "nbconvert_exporter": "python",
   "pygments_lexer": "ipython3",
   "version": "3.10.1"
  }
 },
 "nbformat": 4,
 "nbformat_minor": 5
}
